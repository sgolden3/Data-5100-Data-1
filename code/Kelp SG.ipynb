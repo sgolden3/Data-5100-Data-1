{
 "cells": [
  {
   "cell_type": "code",
   "execution_count": 1,
   "id": "964c4934-429c-43ff-baff-1352e36bee01",
   "metadata": {},
   "outputs": [],
   "source": [
    "import pandas as pd\n",
    "import numpy as np\n",
    "import seaborn as sns\n",
    "import matplotlib.pyplot as plt"
   ]
  },
  {
   "cell_type": "code",
   "execution_count": 2,
   "id": "bd98e6c2-4b75-4ff1-a6ec-8df06b7bce64",
   "metadata": {},
   "outputs": [],
   "source": [
    "siq = pd.read_csv(\n",
    "    \"https://raw.github.com/sgolden3/Data-5100-Data-1/79e16a939d4876ecc81ec5e5d3b9f299db7e1f6a/Data/raw_data/siq.csv\"\n",
    ")"
   ]
  },
  {
   "cell_type": "code",
   "execution_count": 3,
   "id": "806882a0-90d4-40fc-a642-a0616d064a81",
   "metadata": {},
   "outputs": [
    {
     "data": {
      "text/html": [
       "<div>\n",
       "<style scoped>\n",
       "    .dataframe tbody tr th:only-of-type {\n",
       "        vertical-align: middle;\n",
       "    }\n",
       "\n",
       "    .dataframe tbody tr th {\n",
       "        vertical-align: top;\n",
       "    }\n",
       "\n",
       "    .dataframe thead th {\n",
       "        text-align: right;\n",
       "    }\n",
       "</style>\n",
       "<table border=\"1\" class=\"dataframe\">\n",
       "  <thead>\n",
       "    <tr style=\"text-align: right;\">\n",
       "      <th></th>\n",
       "      <th>OBJECTID</th>\n",
       "      <th>Location</th>\n",
       "      <th>Bed Name</th>\n",
       "      <th>Survey Date</th>\n",
       "      <th>Survey Month</th>\n",
       "      <th>Survey Year</th>\n",
       "      <th>Start Time</th>\n",
       "      <th>End Time</th>\n",
       "      <th>Tide Station</th>\n",
       "      <th>Tidal Ht m</th>\n",
       "      <th>...</th>\n",
       "      <th>ToBe</th>\n",
       "      <th>ToWa</th>\n",
       "      <th>BeL</th>\n",
       "      <th>BeR</th>\n",
       "      <th>Notes</th>\n",
       "      <th>Extent Start Waypoint</th>\n",
       "      <th>Extent End Waypoint</th>\n",
       "      <th>Bulb m2</th>\n",
       "      <th>Shape__Area</th>\n",
       "      <th>Shape__Length</th>\n",
       "    </tr>\n",
       "  </thead>\n",
       "  <tbody>\n",
       "    <tr>\n",
       "      <th>0</th>\n",
       "      <td>1</td>\n",
       "      <td>Ebey's Landing</td>\n",
       "      <td>Ebey's Landing</td>\n",
       "      <td>2015-06-14</td>\n",
       "      <td>6</td>\n",
       "      <td>2015</td>\n",
       "      <td>09:23:00</td>\n",
       "      <td>10:18:00</td>\n",
       "      <td>Admiralty Head</td>\n",
       "      <td>-0.4572</td>\n",
       "      <td>...</td>\n",
       "      <td>NaN</td>\n",
       "      <td>NaN</td>\n",
       "      <td>NaN</td>\n",
       "      <td>NaN</td>\n",
       "      <td>NaN</td>\n",
       "      <td>NaN</td>\n",
       "      <td>NaN</td>\n",
       "      <td>1.7590</td>\n",
       "      <td>413718.397095</td>\n",
       "      <td>4015.901723</td>\n",
       "    </tr>\n",
       "    <tr>\n",
       "      <th>1</th>\n",
       "      <td>2</td>\n",
       "      <td>Ebey's Landing</td>\n",
       "      <td>Ebey's Landing</td>\n",
       "      <td>2015-07-19</td>\n",
       "      <td>7</td>\n",
       "      <td>2015</td>\n",
       "      <td>12:20:00</td>\n",
       "      <td>13:28:00</td>\n",
       "      <td>Admiralty Head</td>\n",
       "      <td>NaN</td>\n",
       "      <td>...</td>\n",
       "      <td>NaN</td>\n",
       "      <td>NaN</td>\n",
       "      <td>NaN</td>\n",
       "      <td>NaN</td>\n",
       "      <td>NaN</td>\n",
       "      <td>NaN</td>\n",
       "      <td>NaN</td>\n",
       "      <td>1.8222</td>\n",
       "      <td>637575.510620</td>\n",
       "      <td>5005.838394</td>\n",
       "    </tr>\n",
       "    <tr>\n",
       "      <th>2</th>\n",
       "      <td>3</td>\n",
       "      <td>Ebey's Landing</td>\n",
       "      <td>Ebey's Landing</td>\n",
       "      <td>2015-08-15</td>\n",
       "      <td>8</td>\n",
       "      <td>2015</td>\n",
       "      <td>11:13:00</td>\n",
       "      <td>12:31:00</td>\n",
       "      <td>Admiralty Head</td>\n",
       "      <td>NaN</td>\n",
       "      <td>...</td>\n",
       "      <td>NaN</td>\n",
       "      <td>NaN</td>\n",
       "      <td>NaN</td>\n",
       "      <td>NaN</td>\n",
       "      <td>NaN</td>\n",
       "      <td>NaN</td>\n",
       "      <td>NaN</td>\n",
       "      <td>1.2000</td>\n",
       "      <td>800084.648926</td>\n",
       "      <td>6274.943817</td>\n",
       "    </tr>\n",
       "    <tr>\n",
       "      <th>3</th>\n",
       "      <td>4</td>\n",
       "      <td>Ebey's Landing</td>\n",
       "      <td>Ebey's Landing</td>\n",
       "      <td>2015-09-26</td>\n",
       "      <td>9</td>\n",
       "      <td>2015</td>\n",
       "      <td>08:40:00</td>\n",
       "      <td>09:46:00</td>\n",
       "      <td>Admiralty head</td>\n",
       "      <td>0.1524</td>\n",
       "      <td>...</td>\n",
       "      <td>NaN</td>\n",
       "      <td>NaN</td>\n",
       "      <td>NaN</td>\n",
       "      <td>NaN</td>\n",
       "      <td>NaN</td>\n",
       "      <td>NaN</td>\n",
       "      <td>NaN</td>\n",
       "      <td>1.6889</td>\n",
       "      <td>779666.330566</td>\n",
       "      <td>5859.607518</td>\n",
       "    </tr>\n",
       "    <tr>\n",
       "      <th>4</th>\n",
       "      <td>5</td>\n",
       "      <td>Hastie Lake Launch</td>\n",
       "      <td>Hastie Lake</td>\n",
       "      <td>2015-06-15</td>\n",
       "      <td>6</td>\n",
       "      <td>2015</td>\n",
       "      <td>NaN</td>\n",
       "      <td>NaN</td>\n",
       "      <td>NaN</td>\n",
       "      <td>NaN</td>\n",
       "      <td>...</td>\n",
       "      <td>NaN</td>\n",
       "      <td>NaN</td>\n",
       "      <td>NaN</td>\n",
       "      <td>NaN</td>\n",
       "      <td>NaN</td>\n",
       "      <td>NaN</td>\n",
       "      <td>NaN</td>\n",
       "      <td>NaN</td>\n",
       "      <td>579288.491333</td>\n",
       "      <td>6285.543813</td>\n",
       "    </tr>\n",
       "  </tbody>\n",
       "</table>\n",
       "<p>5 rows × 52 columns</p>\n",
       "</div>"
      ],
      "text/plain": [
       "   OBJECTID            Location        Bed Name Survey Date  Survey Month  \\\n",
       "0         1      Ebey's Landing  Ebey's Landing  2015-06-14             6   \n",
       "1         2      Ebey's Landing  Ebey's Landing  2015-07-19             7   \n",
       "2         3      Ebey's Landing  Ebey's Landing  2015-08-15             8   \n",
       "3         4      Ebey's Landing  Ebey's Landing  2015-09-26             9   \n",
       "4         5  Hastie Lake Launch     Hastie Lake  2015-06-15             6   \n",
       "\n",
       "   Survey Year Start Time  End Time    Tide Station  Tidal Ht m  ... ToBe  \\\n",
       "0         2015   09:23:00  10:18:00  Admiralty Head     -0.4572  ...  NaN   \n",
       "1         2015   12:20:00  13:28:00  Admiralty Head         NaN  ...  NaN   \n",
       "2         2015   11:13:00  12:31:00  Admiralty Head         NaN  ...  NaN   \n",
       "3         2015   08:40:00  09:46:00  Admiralty head      0.1524  ...  NaN   \n",
       "4         2015        NaN       NaN             NaN         NaN  ...  NaN   \n",
       "\n",
       "   ToWa  BeL  BeR Notes Extent Start Waypoint Extent End Waypoint  Bulb m2  \\\n",
       "0   NaN  NaN  NaN   NaN                   NaN                 NaN   1.7590   \n",
       "1   NaN  NaN  NaN   NaN                   NaN                 NaN   1.8222   \n",
       "2   NaN  NaN  NaN   NaN                   NaN                 NaN   1.2000   \n",
       "3   NaN  NaN  NaN   NaN                   NaN                 NaN   1.6889   \n",
       "4   NaN  NaN  NaN   NaN                   NaN                 NaN      NaN   \n",
       "\n",
       "     Shape__Area  Shape__Length  \n",
       "0  413718.397095    4015.901723  \n",
       "1  637575.510620    5005.838394  \n",
       "2  800084.648926    6274.943817  \n",
       "3  779666.330566    5859.607518  \n",
       "4  579288.491333    6285.543813  \n",
       "\n",
       "[5 rows x 52 columns]"
      ]
     },
     "execution_count": 3,
     "metadata": {},
     "output_type": "execute_result"
    }
   ],
   "source": [
    "siq.head()"
   ]
  },
  {
   "cell_type": "code",
   "execution_count": 5,
   "id": "ed405748-36ff-4d0e-88f9-70d39ec63d0c",
   "metadata": {},
   "outputs": [],
   "source": [
    "siq_red = siq[\n",
    "    (siq[\"Survey Year\"] >= 2020) & (siq[\"Survey Year\"] <= 2024)\n",
    "][\n",
    "    [\n",
    "        \"Bed Name\",\n",
    "        \"Survey Date\",\n",
    "        \"Survey Month\",\n",
    "        \"Survey Year\",\n",
    "        \"Acres\",\n",
    "        \"Temp1 Shore Edge\"\n",
    "    ]\n",
    "].copy()"
   ]
  },
  {
   "cell_type": "code",
   "execution_count": 7,
   "id": "f76ebf34-f837-46d0-bd75-8977b7caf061",
   "metadata": {},
   "outputs": [
    {
     "data": {
      "text/html": [
       "<div>\n",
       "<style scoped>\n",
       "    .dataframe tbody tr th:only-of-type {\n",
       "        vertical-align: middle;\n",
       "    }\n",
       "\n",
       "    .dataframe tbody tr th {\n",
       "        vertical-align: top;\n",
       "    }\n",
       "\n",
       "    .dataframe thead th {\n",
       "        text-align: right;\n",
       "    }\n",
       "</style>\n",
       "<table border=\"1\" class=\"dataframe\">\n",
       "  <thead>\n",
       "    <tr style=\"text-align: right;\">\n",
       "      <th></th>\n",
       "      <th>Bed Name</th>\n",
       "      <th>Survey Date</th>\n",
       "      <th>Survey Month</th>\n",
       "      <th>Survey Year</th>\n",
       "      <th>Acres</th>\n",
       "      <th>Temp1 Shore Edge</th>\n",
       "    </tr>\n",
       "  </thead>\n",
       "  <tbody>\n",
       "    <tr>\n",
       "      <th>306</th>\n",
       "      <td>Clallam Bay</td>\n",
       "      <td>2020-07-23</td>\n",
       "      <td>7</td>\n",
       "      <td>2020</td>\n",
       "      <td>13.136316</td>\n",
       "      <td>NaN</td>\n",
       "    </tr>\n",
       "    <tr>\n",
       "      <th>307</th>\n",
       "      <td>Freshwater Bay 1</td>\n",
       "      <td>2020-08-19</td>\n",
       "      <td>8</td>\n",
       "      <td>2020</td>\n",
       "      <td>112.665764</td>\n",
       "      <td>12.2</td>\n",
       "    </tr>\n",
       "    <tr>\n",
       "      <th>308</th>\n",
       "      <td>Freshwater Bay 2</td>\n",
       "      <td>2020-08-19</td>\n",
       "      <td>8</td>\n",
       "      <td>2020</td>\n",
       "      <td>0.635944</td>\n",
       "      <td>11.1</td>\n",
       "    </tr>\n",
       "    <tr>\n",
       "      <th>309</th>\n",
       "      <td>Ebey's Landing</td>\n",
       "      <td>2020-06-18</td>\n",
       "      <td>6</td>\n",
       "      <td>2020</td>\n",
       "      <td>17.910271</td>\n",
       "      <td>11.8</td>\n",
       "    </tr>\n",
       "    <tr>\n",
       "      <th>310</th>\n",
       "      <td>Ebey's Landing</td>\n",
       "      <td>2020-06-18</td>\n",
       "      <td>6</td>\n",
       "      <td>2020</td>\n",
       "      <td>16.765066</td>\n",
       "      <td>11.8</td>\n",
       "    </tr>\n",
       "  </tbody>\n",
       "</table>\n",
       "</div>"
      ],
      "text/plain": [
       "             Bed Name Survey Date  Survey Month  Survey Year       Acres  \\\n",
       "306       Clallam Bay  2020-07-23             7         2020   13.136316   \n",
       "307  Freshwater Bay 1  2020-08-19             8         2020  112.665764   \n",
       "308  Freshwater Bay 2  2020-08-19             8         2020    0.635944   \n",
       "309    Ebey's Landing  2020-06-18             6         2020   17.910271   \n",
       "310    Ebey's Landing  2020-06-18             6         2020   16.765066   \n",
       "\n",
       "    Temp1 Shore Edge  \n",
       "306              NaN  \n",
       "307             12.2  \n",
       "308             11.1  \n",
       "309             11.8  \n",
       "310             11.8  "
      ]
     },
     "execution_count": 7,
     "metadata": {},
     "output_type": "execute_result"
    }
   ],
   "source": [
    "siq_red.head()"
   ]
  },
  {
   "cell_type": "code",
   "execution_count": null,
   "id": "22cae5dc-323b-4ae3-9a48-f1e6dcb30199",
   "metadata": {},
   "outputs": [],
   "source": [
    "#How many observations are there per month, year, bed?\n",
    "#Look for additional data sets that can be correlated - salinity?"
   ]
  },
  {
   "cell_type": "code",
   "execution_count": 8,
   "id": "eb8cc1f1-7c3c-4399-bab4-a8a96b55fe9f",
   "metadata": {},
   "outputs": [],
   "source": [
    "ebey_siq = siq_red[siq_red[\"Bed Name\"] == \"Ebey's Landing\"]"
   ]
  },
  {
   "cell_type": "code",
   "execution_count": 9,
   "id": "551fb8b1-4376-4b25-bc69-b5a5c33a5a07",
   "metadata": {},
   "outputs": [
    {
     "name": "stdout",
     "output_type": "stream",
     "text": [
      "<class 'pandas.core.frame.DataFrame'>\n",
      "Index: 9 entries, 309 to 489\n",
      "Data columns (total 6 columns):\n",
      " #   Column            Non-Null Count  Dtype  \n",
      "---  ------            --------------  -----  \n",
      " 0   Bed Name          9 non-null      object \n",
      " 1   Survey Date       9 non-null      object \n",
      " 2   Survey Month      9 non-null      int64  \n",
      " 3   Survey Year       9 non-null      int64  \n",
      " 4   Acres             9 non-null      float64\n",
      " 5   Temp1 Shore Edge  9 non-null      object \n",
      "dtypes: float64(1), int64(2), object(3)\n",
      "memory usage: 504.0+ bytes\n"
     ]
    }
   ],
   "source": [
    "ebey_siq.info()"
   ]
  },
  {
   "cell_type": "code",
   "execution_count": 31,
   "id": "2f3047a4-9e89-4637-ba25-751b55377907",
   "metadata": {},
   "outputs": [],
   "source": [
    "#August\n",
    "siq_red[\"Survey Month\"] = siq_red[\"Survey Month\"].astype(str).str.strip()\n",
    "august_siq = siq_red[siq_red[\"Survey Month\"] == \"8\"]"
   ]
  },
  {
   "cell_type": "code",
   "execution_count": 32,
   "id": "7245e9ca-718b-4927-9e13-c4654048fdaf",
   "metadata": {},
   "outputs": [
    {
     "data": {
      "text/html": [
       "<div>\n",
       "<style scoped>\n",
       "    .dataframe tbody tr th:only-of-type {\n",
       "        vertical-align: middle;\n",
       "    }\n",
       "\n",
       "    .dataframe tbody tr th {\n",
       "        vertical-align: top;\n",
       "    }\n",
       "\n",
       "    .dataframe thead th {\n",
       "        text-align: right;\n",
       "    }\n",
       "</style>\n",
       "<table border=\"1\" class=\"dataframe\">\n",
       "  <thead>\n",
       "    <tr style=\"text-align: right;\">\n",
       "      <th></th>\n",
       "      <th>Bed Name</th>\n",
       "      <th>Survey Date</th>\n",
       "      <th>Survey Month</th>\n",
       "      <th>Survey Year</th>\n",
       "      <th>Acres</th>\n",
       "      <th>Temp1 Shore Edge</th>\n",
       "    </tr>\n",
       "  </thead>\n",
       "  <tbody>\n",
       "    <tr>\n",
       "      <th>307</th>\n",
       "      <td>Freshwater Bay 1</td>\n",
       "      <td>2020-08-19</td>\n",
       "      <td>8</td>\n",
       "      <td>2020</td>\n",
       "      <td>112.665764</td>\n",
       "      <td>12.2</td>\n",
       "    </tr>\n",
       "    <tr>\n",
       "      <th>308</th>\n",
       "      <td>Freshwater Bay 2</td>\n",
       "      <td>2020-08-19</td>\n",
       "      <td>8</td>\n",
       "      <td>2020</td>\n",
       "      <td>0.635944</td>\n",
       "      <td>11.1</td>\n",
       "    </tr>\n",
       "    <tr>\n",
       "      <th>312</th>\n",
       "      <td>Ebey's Landing</td>\n",
       "      <td>2020-08-30</td>\n",
       "      <td>8</td>\n",
       "      <td>2020</td>\n",
       "      <td>41.614620</td>\n",
       "      <td>11.9</td>\n",
       "    </tr>\n",
       "    <tr>\n",
       "      <th>313</th>\n",
       "      <td>Ebey's Landing</td>\n",
       "      <td>2020-08-30</td>\n",
       "      <td>8</td>\n",
       "      <td>2020</td>\n",
       "      <td>39.986982</td>\n",
       "      <td>11.9</td>\n",
       "    </tr>\n",
       "    <tr>\n",
       "      <th>314</th>\n",
       "      <td>Lowell</td>\n",
       "      <td>2020-08-22</td>\n",
       "      <td>8</td>\n",
       "      <td>2020</td>\n",
       "      <td>5.854933</td>\n",
       "      <td>14.3</td>\n",
       "    </tr>\n",
       "  </tbody>\n",
       "</table>\n",
       "</div>"
      ],
      "text/plain": [
       "             Bed Name Survey Date Survey Month  Survey Year       Acres  \\\n",
       "307  Freshwater Bay 1  2020-08-19            8         2020  112.665764   \n",
       "308  Freshwater Bay 2  2020-08-19            8         2020    0.635944   \n",
       "312    Ebey's Landing  2020-08-30            8         2020   41.614620   \n",
       "313    Ebey's Landing  2020-08-30            8         2020   39.986982   \n",
       "314            Lowell  2020-08-22            8         2020    5.854933   \n",
       "\n",
       "    Temp1 Shore Edge  \n",
       "307             12.2  \n",
       "308             11.1  \n",
       "312             11.9  \n",
       "313             11.9  \n",
       "314             14.3  "
      ]
     },
     "execution_count": 32,
     "metadata": {},
     "output_type": "execute_result"
    }
   ],
   "source": [
    "august_siq.head()"
   ]
  },
  {
   "cell_type": "code",
   "execution_count": 33,
   "id": "f30d11eb-3bfb-47e9-8204-2c9096a32571",
   "metadata": {},
   "outputs": [],
   "source": [
    "num_observations_august = len(august_siq)"
   ]
  },
  {
   "cell_type": "code",
   "execution_count": 34,
   "id": "103022c2-1d26-410e-9360-f9908bf0f207",
   "metadata": {},
   "outputs": [
    {
     "name": "stdout",
     "output_type": "stream",
     "text": [
      "96\n"
     ]
    }
   ],
   "source": [
    "print(num_observations_august)"
   ]
  },
  {
   "cell_type": "code",
   "execution_count": 27,
   "id": "f242bc76-946b-46d7-a4dc-daf90da7013e",
   "metadata": {},
   "outputs": [],
   "source": [
    "#September\n",
    "siq_red[\"Survey Month\"] = siq_red[\"Survey Month\"].astype(str).str.strip()\n",
    "september_siq = siq_red[siq_red[\"Survey Month\"] == \"9\"]"
   ]
  },
  {
   "cell_type": "code",
   "execution_count": 28,
   "id": "5ad358ec-b8c2-45b5-8fc8-ebddd89f9983",
   "metadata": {},
   "outputs": [
    {
     "name": "stdout",
     "output_type": "stream",
     "text": [
      "37\n"
     ]
    }
   ],
   "source": [
    "num_observations_september = len(september_siq)\n",
    "print(num_observations_september)"
   ]
  },
  {
   "cell_type": "code",
   "execution_count": 35,
   "id": "30af96d3-ed7c-4445-99c4-bc16bdf39d11",
   "metadata": {},
   "outputs": [],
   "source": [
    "#June\n",
    "siq_red[\"Survey Month\"] = siq_red[\"Survey Month\"].astype(str).str.strip()\n",
    "june_siq = siq_red[siq_red[\"Survey Month\"] == \"6\"]"
   ]
  },
  {
   "cell_type": "code",
   "execution_count": 36,
   "id": "ee2eed29-dc33-4818-84e8-e77734b00963",
   "metadata": {},
   "outputs": [
    {
     "name": "stdout",
     "output_type": "stream",
     "text": [
      "31\n"
     ]
    }
   ],
   "source": [
    "num_observations_june = len(june_siq)\n",
    "print(num_observations_june)"
   ]
  },
  {
   "cell_type": "code",
   "execution_count": 37,
   "id": "982faaa7-8fa3-42eb-a9d3-354b75e7f96d",
   "metadata": {},
   "outputs": [],
   "source": [
    "#July\n",
    "siq_red[\"Survey Month\"] = siq_red[\"Survey Month\"].astype(str).str.strip()\n",
    "july_siq = siq_red[siq_red[\"Survey Month\"] == \"7\"]"
   ]
  },
  {
   "cell_type": "code",
   "execution_count": 38,
   "id": "65bf97df-4c99-48a6-98db-0ebb8835bb71",
   "metadata": {},
   "outputs": [
    {
     "name": "stdout",
     "output_type": "stream",
     "text": [
      "69\n"
     ]
    }
   ],
   "source": [
    "num_observations_july = len(july_siq)\n",
    "print(num_observations_july)"
   ]
  },
  {
   "cell_type": "code",
   "execution_count": 40,
   "id": "b235c7ec-e52f-47c8-8ac7-6f70ef8be68e",
   "metadata": {},
   "outputs": [],
   "source": [
    "#Year 2020\n",
    "siq_red[\"Survey Year\"] = siq_red[\"Survey Year\"].astype(str).str.strip()\n",
    "siq_2020 = siq_red[siq_red[\"Survey Year\"] == \"2020\"]"
   ]
  },
  {
   "cell_type": "code",
   "execution_count": 41,
   "id": "6290a1b0-f810-4379-a94a-fcdbd2b782b9",
   "metadata": {},
   "outputs": [
    {
     "name": "stdout",
     "output_type": "stream",
     "text": [
      "50\n"
     ]
    }
   ],
   "source": [
    "num_observations_2020 = len(siq_2020)\n",
    "print(num_observations_2020)"
   ]
  },
  {
   "cell_type": "code",
   "execution_count": 42,
   "id": "6fdc5295-89e3-4886-8c5e-4573ea0c8bb8",
   "metadata": {},
   "outputs": [],
   "source": [
    "#Year 2021\n",
    "siq_red[\"Survey Year\"] = siq_red[\"Survey Year\"].astype(str).str.strip()\n",
    "siq_2021 = siq_red[siq_red[\"Survey Year\"] == \"2021\"]\n"
   ]
  },
  {
   "cell_type": "code",
   "execution_count": 43,
   "id": "10ddd696-51da-40b9-8aeb-6b0565094552",
   "metadata": {},
   "outputs": [
    {
     "name": "stdout",
     "output_type": "stream",
     "text": [
      "45\n"
     ]
    }
   ],
   "source": [
    "num_observations_2021 = len(siq_2021)\n",
    "print(num_observations_2021)"
   ]
  },
  {
   "cell_type": "code",
   "execution_count": 44,
   "id": "63c7b14e-6c15-4c81-b4fd-871d00cb9b10",
   "metadata": {},
   "outputs": [],
   "source": [
    "#Year 2022\n",
    "siq_red[\"Survey Year\"] = siq_red[\"Survey Year\"].astype(str).str.strip()\n",
    "siq_2022 = siq_red[siq_red[\"Survey Year\"] == \"2022\"]"
   ]
  },
  {
   "cell_type": "code",
   "execution_count": 45,
   "id": "88a4964e-bd8b-42a8-86c2-e9cd8a78e18f",
   "metadata": {},
   "outputs": [
    {
     "name": "stdout",
     "output_type": "stream",
     "text": [
      "42\n"
     ]
    }
   ],
   "source": [
    "num_observations_2022 = len(siq_2022)\n",
    "print(num_observations_2022)"
   ]
  },
  {
   "cell_type": "code",
   "execution_count": 46,
   "id": "4e898687-673c-4572-bd97-009babd27d4e",
   "metadata": {},
   "outputs": [],
   "source": [
    "#Year 2023\n",
    "siq_red[\"Survey Year\"] = siq_red[\"Survey Year\"].astype(str).str.strip()\n",
    "siq_2023 = siq_red[siq_red[\"Survey Year\"] == \"2023\"]"
   ]
  },
  {
   "cell_type": "code",
   "execution_count": 47,
   "id": "dca42d38-a483-41c7-88b5-a27084218c97",
   "metadata": {},
   "outputs": [
    {
     "name": "stdout",
     "output_type": "stream",
     "text": [
      "43\n"
     ]
    }
   ],
   "source": [
    "num_observations_2023 = len(siq_2023)\n",
    "print(num_observations_2023)"
   ]
  },
  {
   "cell_type": "code",
   "execution_count": 48,
   "id": "232afb4e-9ac7-44a8-9af2-42c20b6a9120",
   "metadata": {},
   "outputs": [],
   "source": [
    "#Year 2024\n",
    "siq_red[\"Survey Year\"] = siq_red[\"Survey Year\"].astype(str).str.strip()\n",
    "siq_2024 = siq_red[siq_red[\"Survey Year\"] == \"2024\"]"
   ]
  },
  {
   "cell_type": "code",
   "execution_count": 49,
   "id": "83c497af-e334-4ecb-95fd-242d78d2b9a6",
   "metadata": {},
   "outputs": [
    {
     "name": "stdout",
     "output_type": "stream",
     "text": [
      "53\n"
     ]
    }
   ],
   "source": [
    "num_observations_2024 = len(siq_2024)\n",
    "print(num_observations_2024)"
   ]
  },
  {
   "cell_type": "code",
   "execution_count": 54,
   "id": "7afad6ed-3d58-43b5-985a-bcf69dee9115",
   "metadata": {},
   "outputs": [
    {
     "data": {
      "text/plain": [
       "array(['Clallam Bay', 'Freshwater Bay 1', 'Freshwater Bay 2',\n",
       "       \"Ebey's Landing\", 'Lowell', 'Polnell Point', 'Possession Point',\n",
       "       'North Beach East', 'Biz Point', 'Coffin Rocks',\n",
       "       'Shannon Point East', 'Shannon Point West', 'Edmonds 1',\n",
       "       'Edmonds 2', 'Edmonds 3', 'Hat Island', 'Aiston Preserve',\n",
       "       'Alden Bank', 'Cherry Point-Gulf Rd', 'Lummi SW',\n",
       "       'Point Whitehorn', 'Hoypus Point', 'Freshwater Bay 3',\n",
       "       'Hat Island West', 'Biz Point South', 'Lone Tree Point'],\n",
       "      dtype=object)"
      ]
     },
     "execution_count": 54,
     "metadata": {},
     "output_type": "execute_result"
    }
   ],
   "source": [
    "siq_red[\"Bed Name\"].unique()"
   ]
  },
  {
   "cell_type": "code",
   "execution_count": 53,
   "id": "916a302d-069c-452c-b69d-665edfb6b930",
   "metadata": {},
   "outputs": [
    {
     "data": {
      "text/plain": [
       "26"
      ]
     },
     "execution_count": 53,
     "metadata": {},
     "output_type": "execute_result"
    }
   ],
   "source": [
    "siq_red[\"Bed Name\"].nunique()"
   ]
  },
  {
   "cell_type": "code",
   "execution_count": 55,
   "id": "b8b39fde-6c2a-4362-856c-5326fba4c81e",
   "metadata": {},
   "outputs": [],
   "source": [
    "#Ebey's Landing\n",
    "siq_red[\"Bed Name\"] = siq_red[\"Bed Name\"].astype(str).str.strip()\n",
    "siq_ebey = siq_red[siq_red[\"Bed Name\"] == \"Ebey's Landing\"]"
   ]
  },
  {
   "cell_type": "code",
   "execution_count": 56,
   "id": "ff0670c9-4eb1-457c-82e0-8ae16ec72b72",
   "metadata": {},
   "outputs": [
    {
     "name": "stdout",
     "output_type": "stream",
     "text": [
      "9\n"
     ]
    }
   ],
   "source": [
    "num_observations_ebey = len(siq_ebey)\n",
    "print(num_observations_ebey)"
   ]
  },
  {
   "cell_type": "code",
   "execution_count": 57,
   "id": "ee171518-1f3c-4dd4-845b-b1d1674c3fc2",
   "metadata": {},
   "outputs": [],
   "source": [
    "#Polnell\n",
    "siq_red[\"Bed Name\"] = siq_red[\"Bed Name\"].astype(str).str.strip()\n",
    "siq_polnell = siq_red[siq_red[\"Bed Name\"] == \"Polnell Point\"]"
   ]
  },
  {
   "cell_type": "code",
   "execution_count": 58,
   "id": "feaa8465-a521-4d48-bdb1-d2ec0135e986",
   "metadata": {},
   "outputs": [
    {
     "name": "stdout",
     "output_type": "stream",
     "text": [
      "7\n"
     ]
    }
   ],
   "source": [
    "num_observations_polnell = len(siq_polnell)\n",
    "print(num_observations_polnell)"
   ]
  },
  {
   "cell_type": "code",
   "execution_count": 67,
   "id": "f9254558-39e6-45d9-852e-1addc603d710",
   "metadata": {},
   "outputs": [],
   "source": [
    "# First convert the columns to datetime format if they contain date information\n",
    "# Assuming Survey Year and Survey Month are not already datetime objects\n",
    "siq_polnell_2022 = siq_red[(siq_red[\"Bed Name\"] == \"Polnell Point\") & \n",
    "                      (siq_red[\"Survey Year\"] == 2022) &  # Changed from .dt.year to direct comparison\n",
    "                      (siq_red[\"Survey Month\"].isin([6]))]  # Changed from .dt.month to direct access\n",
    "\n",
    "# If your columns actually contain datetime objects but weren't recognized as such,\n",
    "# you might need to convert them first:\n",
    "# siq_red[\"Survey Year\"] = pd.to_datetime(siq_red[\"Survey Year\"])\n",
    "# siq_red[\"Survey Month\"] = pd.to_datetime(siq_red[\"Survey Month\"])"
   ]
  },
  {
   "cell_type": "code",
   "execution_count": 68,
   "id": "8e392a7c-3994-45ff-8eb5-52f76a38b135",
   "metadata": {},
   "outputs": [
    {
     "name": "stdout",
     "output_type": "stream",
     "text": [
      "Empty DataFrame\n",
      "Columns: [Bed Name, Survey Date, Survey Month, Survey Year, Acres, Temp1 Shore Edge]\n",
      "Index: []\n"
     ]
    }
   ],
   "source": [
    "print(siq_polnell_2022)"
   ]
  },
  {
   "cell_type": "code",
   "execution_count": null,
   "id": "848795ab-7bac-428d-b7e2-532a3a5526d4",
   "metadata": {},
   "outputs": [],
   "source": []
  }
 ],
 "metadata": {
  "kernelspec": {
   "display_name": "Python [conda env:base] *",
   "language": "python",
   "name": "conda-base-py"
  },
  "language_info": {
   "codemirror_mode": {
    "name": "ipython",
    "version": 3
   },
   "file_extension": ".py",
   "mimetype": "text/x-python",
   "name": "python",
   "nbconvert_exporter": "python",
   "pygments_lexer": "ipython3",
   "version": "3.13.5"
  }
 },
 "nbformat": 4,
 "nbformat_minor": 5
}
